{
 "cells": [
  {
   "cell_type": "markdown",
   "id": "a047289d",
   "metadata": {},
   "source": [
    "# Linear Regression"
   ]
  },
  {
   "cell_type": "markdown",
   "id": "c1e32103",
   "metadata": {},
   "source": [
    "## Importing data"
   ]
  },
  {
   "cell_type": "code",
   "execution_count": 55,
   "id": "ca5d3055",
   "metadata": {},
   "outputs": [],
   "source": [
    "#!pip install numpy\n",
    "#!pip install matplotlib\n",
    "#!pip install pandas"
   ]
  },
  {
   "cell_type": "code",
   "execution_count": 56,
   "id": "bec28f64",
   "metadata": {},
   "outputs": [],
   "source": [
    "#!pip list"
   ]
  },
  {
   "cell_type": "code",
   "execution_count": 57,
   "id": "045ab7b4",
   "metadata": {},
   "outputs": [],
   "source": [
    "# Importing the libraries\n",
    "import numpy as np\n",
    "import matplotlib.pyplot as plt\n",
    "import pandas as pd"
   ]
  },
  {
   "cell_type": "code",
   "execution_count": 58,
   "id": "ea4ad419",
   "metadata": {},
   "outputs": [],
   "source": [
    "# Importing the datasets\n",
    "df = pd.read_csv('alena.csv')"
   ]
  },
  {
   "cell_type": "code",
   "execution_count": 59,
   "id": "319b48de",
   "metadata": {},
   "outputs": [
    {
     "data": {
      "text/html": [
       "<div>\n",
       "<style scoped>\n",
       "    .dataframe tbody tr th:only-of-type {\n",
       "        vertical-align: middle;\n",
       "    }\n",
       "\n",
       "    .dataframe tbody tr th {\n",
       "        vertical-align: top;\n",
       "    }\n",
       "\n",
       "    .dataframe thead th {\n",
       "        text-align: right;\n",
       "    }\n",
       "</style>\n",
       "<table border=\"1\" class=\"dataframe\">\n",
       "  <thead>\n",
       "    <tr style=\"text-align: right;\">\n",
       "      <th></th>\n",
       "      <th>GRE Score</th>\n",
       "      <th>TOEFL Score</th>\n",
       "      <th>University Rating</th>\n",
       "      <th>SOP</th>\n",
       "      <th>LOR</th>\n",
       "      <th>CGPA</th>\n",
       "      <th>Research</th>\n",
       "      <th>Chance of Admit</th>\n",
       "      <th>level CGPA</th>\n",
       "    </tr>\n",
       "  </thead>\n",
       "  <tbody>\n",
       "    <tr>\n",
       "      <th>0</th>\n",
       "      <td>337</td>\n",
       "      <td>4.770685</td>\n",
       "      <td>4</td>\n",
       "      <td>4.5</td>\n",
       "      <td>4.5</td>\n",
       "      <td>2.266958</td>\n",
       "      <td>1</td>\n",
       "      <td>0.92</td>\n",
       "      <td>1</td>\n",
       "    </tr>\n",
       "    <tr>\n",
       "      <th>1</th>\n",
       "      <td>324</td>\n",
       "      <td>4.672829</td>\n",
       "      <td>4</td>\n",
       "      <td>4.0</td>\n",
       "      <td>4.5</td>\n",
       "      <td>2.182675</td>\n",
       "      <td>1</td>\n",
       "      <td>0.76</td>\n",
       "      <td>1</td>\n",
       "    </tr>\n",
       "    <tr>\n",
       "      <th>2</th>\n",
       "      <td>316</td>\n",
       "      <td>4.644391</td>\n",
       "      <td>3</td>\n",
       "      <td>3.0</td>\n",
       "      <td>3.5</td>\n",
       "      <td>2.079442</td>\n",
       "      <td>1</td>\n",
       "      <td>0.72</td>\n",
       "      <td>0</td>\n",
       "    </tr>\n",
       "    <tr>\n",
       "      <th>3</th>\n",
       "      <td>322</td>\n",
       "      <td>4.700480</td>\n",
       "      <td>3</td>\n",
       "      <td>3.5</td>\n",
       "      <td>2.5</td>\n",
       "      <td>2.159869</td>\n",
       "      <td>1</td>\n",
       "      <td>0.80</td>\n",
       "      <td>1</td>\n",
       "    </tr>\n",
       "    <tr>\n",
       "      <th>4</th>\n",
       "      <td>314</td>\n",
       "      <td>4.634729</td>\n",
       "      <td>2</td>\n",
       "      <td>2.0</td>\n",
       "      <td>3.0</td>\n",
       "      <td>2.105353</td>\n",
       "      <td>0</td>\n",
       "      <td>0.65</td>\n",
       "      <td>1</td>\n",
       "    </tr>\n",
       "    <tr>\n",
       "      <th>...</th>\n",
       "      <td>...</td>\n",
       "      <td>...</td>\n",
       "      <td>...</td>\n",
       "      <td>...</td>\n",
       "      <td>...</td>\n",
       "      <td>...</td>\n",
       "      <td>...</td>\n",
       "      <td>...</td>\n",
       "      <td>...</td>\n",
       "    </tr>\n",
       "    <tr>\n",
       "      <th>391</th>\n",
       "      <td>324</td>\n",
       "      <td>4.700480</td>\n",
       "      <td>3</td>\n",
       "      <td>3.5</td>\n",
       "      <td>3.5</td>\n",
       "      <td>2.201659</td>\n",
       "      <td>1</td>\n",
       "      <td>0.82</td>\n",
       "      <td>1</td>\n",
       "    </tr>\n",
       "    <tr>\n",
       "      <th>392</th>\n",
       "      <td>325</td>\n",
       "      <td>4.672829</td>\n",
       "      <td>3</td>\n",
       "      <td>3.0</td>\n",
       "      <td>3.5</td>\n",
       "      <td>2.209373</td>\n",
       "      <td>1</td>\n",
       "      <td>0.84</td>\n",
       "      <td>1</td>\n",
       "    </tr>\n",
       "    <tr>\n",
       "      <th>393</th>\n",
       "      <td>330</td>\n",
       "      <td>4.753590</td>\n",
       "      <td>4</td>\n",
       "      <td>5.0</td>\n",
       "      <td>4.5</td>\n",
       "      <td>2.246015</td>\n",
       "      <td>1</td>\n",
       "      <td>0.91</td>\n",
       "      <td>1</td>\n",
       "    </tr>\n",
       "    <tr>\n",
       "      <th>394</th>\n",
       "      <td>312</td>\n",
       "      <td>4.634729</td>\n",
       "      <td>3</td>\n",
       "      <td>3.5</td>\n",
       "      <td>4.0</td>\n",
       "      <td>2.172476</td>\n",
       "      <td>0</td>\n",
       "      <td>0.67</td>\n",
       "      <td>1</td>\n",
       "    </tr>\n",
       "    <tr>\n",
       "      <th>395</th>\n",
       "      <td>333</td>\n",
       "      <td>4.762174</td>\n",
       "      <td>4</td>\n",
       "      <td>5.0</td>\n",
       "      <td>4.0</td>\n",
       "      <td>2.267994</td>\n",
       "      <td>1</td>\n",
       "      <td>0.95</td>\n",
       "      <td>1</td>\n",
       "    </tr>\n",
       "  </tbody>\n",
       "</table>\n",
       "<p>396 rows × 9 columns</p>\n",
       "</div>"
      ],
      "text/plain": [
       "     GRE Score  TOEFL Score  University Rating  SOP  LOR       CGPA  Research  \\\n",
       "0          337     4.770685                  4  4.5   4.5  2.266958         1   \n",
       "1          324     4.672829                  4  4.0   4.5  2.182675         1   \n",
       "2          316     4.644391                  3  3.0   3.5  2.079442         1   \n",
       "3          322     4.700480                  3  3.5   2.5  2.159869         1   \n",
       "4          314     4.634729                  2  2.0   3.0  2.105353         0   \n",
       "..         ...          ...                ...  ...   ...       ...       ...   \n",
       "391        324     4.700480                  3  3.5   3.5  2.201659         1   \n",
       "392        325     4.672829                  3  3.0   3.5  2.209373         1   \n",
       "393        330     4.753590                  4  5.0   4.5  2.246015         1   \n",
       "394        312     4.634729                  3  3.5   4.0  2.172476         0   \n",
       "395        333     4.762174                  4  5.0   4.0  2.267994         1   \n",
       "\n",
       "     Chance of Admit   level CGPA  \n",
       "0                0.92           1  \n",
       "1                0.76           1  \n",
       "2                0.72           0  \n",
       "3                0.80           1  \n",
       "4                0.65           1  \n",
       "..                ...         ...  \n",
       "391              0.82           1  \n",
       "392              0.84           1  \n",
       "393              0.91           1  \n",
       "394              0.67           1  \n",
       "395              0.95           1  \n",
       "\n",
       "[396 rows x 9 columns]"
      ]
     },
     "execution_count": 59,
     "metadata": {},
     "output_type": "execute_result"
    }
   ],
   "source": [
    "df"
   ]
  },
  {
   "cell_type": "markdown",
   "id": "34305d64",
   "metadata": {},
   "source": [
    "# Correlations"
   ]
  },
  {
   "cell_type": "code",
   "execution_count": 60,
   "id": "c8946fed",
   "metadata": {},
   "outputs": [
    {
     "data": {
      "image/png": "[encoded data removed]",
      "text/plain": [
       "<Figure size 864x648 with 2 Axes>"
      ]
     },
     "metadata": {
      "needs_background": "light"
     },
     "output_type": "display_data"
    }
   ],
   "source": [
    "import seaborn as sns\n",
    "corrmat = df.corr()\n",
    "f, ax = plt.subplots(figsize=(12, 9))\n",
    "sns.heatmap(corrmat, annot=True)\n",
    "plt.show()"
   ]
  },
  {
   "cell_type": "markdown",
   "id": "70fb9df2",
   "metadata": {},
   "source": [
    "Как видим наибольшую корреляцию с TOEFL Score даёт CGPA. Таким образом, мы будем строить однофакторную модель: зависимость TOEFL Score от CGPA."
   ]
  },
  {
   "cell_type": "markdown",
   "id": "c8eee4e2",
   "metadata": {},
   "source": [
    "# Splitting"
   ]
  },
  {
   "cell_type": "code",
   "execution_count": 62,
   "id": "88613378",
   "metadata": {},
   "outputs": [
    {
     "data": {
      "text/html": [
       "<div>\n",
       "<style scoped>\n",
       "    .dataframe tbody tr th:only-of-type {\n",
       "        vertical-align: middle;\n",
       "    }\n",
       "\n",
       "    .dataframe tbody tr th {\n",
       "        vertical-align: top;\n",
       "    }\n",
       "\n",
       "    .dataframe thead th {\n",
       "        text-align: right;\n",
       "    }\n",
       "</style>\n",
       "<table border=\"1\" class=\"dataframe\">\n",
       "  <thead>\n",
       "    <tr style=\"text-align: right;\">\n",
       "      <th></th>\n",
       "      <th>GRE Score</th>\n",
       "      <th>University Rating</th>\n",
       "      <th>SOP</th>\n",
       "      <th>LOR</th>\n",
       "      <th>CGPA</th>\n",
       "      <th>Research</th>\n",
       "      <th>Chance of Admit</th>\n",
       "      <th>level CGPA</th>\n",
       "    </tr>\n",
       "  </thead>\n",
       "  <tbody>\n",
       "    <tr>\n",
       "      <th>0</th>\n",
       "      <td>337</td>\n",
       "      <td>4</td>\n",
       "      <td>4.5</td>\n",
       "      <td>4.5</td>\n",
       "      <td>2.266958</td>\n",
       "      <td>1</td>\n",
       "      <td>0.92</td>\n",
       "      <td>1</td>\n",
       "    </tr>\n",
       "    <tr>\n",
       "      <th>1</th>\n",
       "      <td>324</td>\n",
       "      <td>4</td>\n",
       "      <td>4.0</td>\n",
       "      <td>4.5</td>\n",
       "      <td>2.182675</td>\n",
       "      <td>1</td>\n",
       "      <td>0.76</td>\n",
       "      <td>1</td>\n",
       "    </tr>\n",
       "    <tr>\n",
       "      <th>2</th>\n",
       "      <td>316</td>\n",
       "      <td>3</td>\n",
       "      <td>3.0</td>\n",
       "      <td>3.5</td>\n",
       "      <td>2.079442</td>\n",
       "      <td>1</td>\n",
       "      <td>0.72</td>\n",
       "      <td>0</td>\n",
       "    </tr>\n",
       "    <tr>\n",
       "      <th>3</th>\n",
       "      <td>322</td>\n",
       "      <td>3</td>\n",
       "      <td>3.5</td>\n",
       "      <td>2.5</td>\n",
       "      <td>2.159869</td>\n",
       "      <td>1</td>\n",
       "      <td>0.80</td>\n",
       "      <td>1</td>\n",
       "    </tr>\n",
       "    <tr>\n",
       "      <th>4</th>\n",
       "      <td>314</td>\n",
       "      <td>2</td>\n",
       "      <td>2.0</td>\n",
       "      <td>3.0</td>\n",
       "      <td>2.105353</td>\n",
       "      <td>0</td>\n",
       "      <td>0.65</td>\n",
       "      <td>1</td>\n",
       "    </tr>\n",
       "    <tr>\n",
       "      <th>...</th>\n",
       "      <td>...</td>\n",
       "      <td>...</td>\n",
       "      <td>...</td>\n",
       "      <td>...</td>\n",
       "      <td>...</td>\n",
       "      <td>...</td>\n",
       "      <td>...</td>\n",
       "      <td>...</td>\n",
       "    </tr>\n",
       "    <tr>\n",
       "      <th>391</th>\n",
       "      <td>324</td>\n",
       "      <td>3</td>\n",
       "      <td>3.5</td>\n",
       "      <td>3.5</td>\n",
       "      <td>2.201659</td>\n",
       "      <td>1</td>\n",
       "      <td>0.82</td>\n",
       "      <td>1</td>\n",
       "    </tr>\n",
       "    <tr>\n",
       "      <th>392</th>\n",
       "      <td>325</td>\n",
       "      <td>3</td>\n",
       "      <td>3.0</td>\n",
       "      <td>3.5</td>\n",
       "      <td>2.209373</td>\n",
       "      <td>1</td>\n",
       "      <td>0.84</td>\n",
       "      <td>1</td>\n",
       "    </tr>\n",
       "    <tr>\n",
       "      <th>393</th>\n",
       "      <td>330</td>\n",
       "      <td>4</td>\n",
       "      <td>5.0</td>\n",
       "      <td>4.5</td>\n",
       "      <td>2.246015</td>\n",
       "      <td>1</td>\n",
       "      <td>0.91</td>\n",
       "      <td>1</td>\n",
       "    </tr>\n",
       "    <tr>\n",
       "      <th>394</th>\n",
       "      <td>312</td>\n",
       "      <td>3</td>\n",
       "      <td>3.5</td>\n",
       "      <td>4.0</td>\n",
       "      <td>2.172476</td>\n",
       "      <td>0</td>\n",
       "      <td>0.67</td>\n",
       "      <td>1</td>\n",
       "    </tr>\n",
       "    <tr>\n",
       "      <th>395</th>\n",
       "      <td>333</td>\n",
       "      <td>4</td>\n",
       "      <td>5.0</td>\n",
       "      <td>4.0</td>\n",
       "      <td>2.267994</td>\n",
       "      <td>1</td>\n",
       "      <td>0.95</td>\n",
       "      <td>1</td>\n",
       "    </tr>\n",
       "  </tbody>\n",
       "</table>\n",
       "<p>396 rows × 8 columns</p>\n",
       "</div>"
      ],
      "text/plain": [
       "     GRE Score  University Rating  SOP  LOR       CGPA  Research  \\\n",
       "0          337                  4  4.5   4.5  2.266958         1   \n",
       "1          324                  4  4.0   4.5  2.182675         1   \n",
       "2          316                  3  3.0   3.5  2.079442         1   \n",
       "3          322                  3  3.5   2.5  2.159869         1   \n",
       "4          314                  2  2.0   3.0  2.105353         0   \n",
       "..         ...                ...  ...   ...       ...       ...   \n",
       "391        324                  3  3.5   3.5  2.201659         1   \n",
       "392        325                  3  3.0   3.5  2.209373         1   \n",
       "393        330                  4  5.0   4.5  2.246015         1   \n",
       "394        312                  3  3.5   4.0  2.172476         0   \n",
       "395        333                  4  5.0   4.0  2.267994         1   \n",
       "\n",
       "     Chance of Admit   level CGPA  \n",
       "0                0.92           1  \n",
       "1                0.76           1  \n",
       "2                0.72           0  \n",
       "3                0.80           1  \n",
       "4                0.65           1  \n",
       "..                ...         ...  \n",
       "391              0.82           1  \n",
       "392              0.84           1  \n",
       "393              0.91           1  \n",
       "394              0.67           1  \n",
       "395              0.95           1  \n",
       "\n",
       "[396 rows x 8 columns]"
      ]
     },
     "execution_count": 62,
     "metadata": {},
     "output_type": "execute_result"
    }
   ],
   "source": [
    "X = df.iloc[:, [True,False,True,True,True,True,True,True,True]]\n",
    "y = df['TOEFL Score']\n",
    "from sklearn.model_selection import train_test_split\n",
    "X_train, X_test, y_train, y_test = train_test_split(X, y, test_size=0.2, random_state=10)\n",
    "X"
   ]
  },
  {
   "cell_type": "markdown",
   "id": "a5408d43",
   "metadata": {},
   "source": [
    "# Simple Linear Regression"
   ]
  },
  {
   "cell_type": "code",
   "execution_count": 63,
   "id": "fff1dc36",
   "metadata": {},
   "outputs": [
    {
     "data": {
      "text/plain": [
       "(array([0.66193057]), 3.251377115372812)"
      ]
     },
     "execution_count": 63,
     "metadata": {},
     "output_type": "execute_result"
    }
   ],
   "source": [
    "f1 = ['CGPA']\n",
    "\n",
    "from sklearn.linear_model import LinearRegression\n",
    "sr = LinearRegression().fit(X_train[f1], y_train)\n",
    "\n",
    "sr.coef_, sr.intercept_"
   ]
  },
  {
   "cell_type": "markdown",
   "id": "9fb5b745",
   "metadata": {},
   "source": [
    "Т.е. TOEFL Score=0.66*CGPA+3.251"
   ]
  },
  {
   "cell_type": "code",
   "execution_count": 64,
   "id": "f0cb2528",
   "metadata": {},
   "outputs": [
    {
     "data": {
      "text/plain": [
       "(0.674, 0.63)"
      ]
     },
     "execution_count": 64,
     "metadata": {},
     "output_type": "execute_result"
    }
   ],
   "source": [
    "y_pred = sr.predict(X_test[f1])\n",
    "\n",
    "sr.score(X_train[f1], y_train).round(3), sr.score(X_test[f1], y_test).round(3)"
   ]
  },
  {
   "cell_type": "markdown",
   "id": "820655f4",
   "metadata": {},
   "source": [
    "Таким образом TOEFL Score зависит от теста CGPA на 67%"
   ]
  },
  {
   "cell_type": "code",
   "execution_count": 65,
   "id": "b1ee135c",
   "metadata": {},
   "outputs": [
    {
     "data": {
      "text/plain": [
       "(0.03, 0.03)"
      ]
     },
     "execution_count": 65,
     "metadata": {},
     "output_type": "execute_result"
    }
   ],
   "source": [
    "from sklearn.metrics import mean_squared_error\n",
    "mean_squared_error(y_train, sr.predict(X_train[f1]), squared=False).round(2), mean_squared_error(y_test, y_pred, squared=False).round(2)"
   ]
  },
  {
   "cell_type": "code",
   "execution_count": 66,
   "id": "9be852fa",
   "metadata": {},
   "outputs": [
    {
     "data": {
      "image/png": "[encoded data removed]",
      "text/plain": [
       "<Figure size 432x288 with 1 Axes>"
      ]
     },
     "metadata": {
      "needs_background": "light"
     },
     "output_type": "display_data"
    }
   ],
   "source": [
    "# Visualising the Test set results\n",
    "plt.scatter(X_test['CGPA'], y_test, color = 'red')\n",
    "plt.plot(X_test['CGPA'], sr.predict(X_test[f1]), 'bo')\n",
    "plt.title('TOEFL Score vs CGPA (Test set)')\n",
    "plt.xlabel('CGPA')\n",
    "plt.ylabel('TOEFL Score')\n",
    "plt.show()"
   ]
  },
  {
   "cell_type": "markdown",
   "id": "c01f8158",
   "metadata": {},
   "source": [
    "# Multiple Linear Regression"
   ]
  },
  {
   "cell_type": "code",
   "execution_count": 67,
   "id": "958d0ffd",
   "metadata": {},
   "outputs": [],
   "source": [
    "#!pip install statsmodels"
   ]
  },
  {
   "cell_type": "code",
   "execution_count": 68,
   "id": "93fe8776",
   "metadata": {},
   "outputs": [
    {
     "data": {
      "text/plain": [
       "0.761"
      ]
     },
     "execution_count": 68,
     "metadata": {},
     "output_type": "execute_result"
    }
   ],
   "source": [
    "mr = LinearRegression().fit(X_train, y_train)\n",
    "mr.score(X_train, y_train).round(3)"
   ]
  },
  {
   "cell_type": "code",
   "execution_count": 69,
   "id": "10875f27",
   "metadata": {},
   "outputs": [
    {
     "data": {
      "image/png": "[encoded data removed]",
      "text/plain": [
       "<Figure size 432x288 with 1 Axes>"
      ]
     },
     "metadata": {
      "needs_background": "light"
     },
     "output_type": "display_data"
    }
   ],
   "source": [
    "plt.scatter(X_test['CGPA'], y_test, color = 'red')\n",
    "plt.plot(X_test['CGPA'], mr.predict(X_test), 'bo')\n",
    "plt.title('TOEFL Score vs CGPA')\n",
    "plt.xlabel('CGPA')\n",
    "plt.ylabel('TOEFL Score')\n",
    "plt.show()"
   ]
  },
  {
   "cell_type": "code",
   "execution_count": 70,
   "id": "2991bd1e",
   "metadata": {},
   "outputs": [
    {
     "data": {
      "text/html": [
       "<table class=\"simpletable\">\n",
       "<caption>OLS Regression Results</caption>\n",
       "<tr>\n",
       "  <th>Dep. Variable:</th>       <td>TOEFL Score</td>   <th>  R-squared:         </th> <td>   0.761</td>\n",
       "</tr>\n",
       "<tr>\n",
       "  <th>Model:</th>                   <td>OLS</td>       <th>  Adj. R-squared:    </th> <td>   0.755</td>\n",
       "</tr>\n",
       "<tr>\n",
       "  <th>Method:</th>             <td>Least Squares</td>  <th>  F-statistic:       </th> <td>   122.2</td>\n",
       "</tr>\n",
       "<tr>\n",
       "  <th>Date:</th>             <td>Sat, 18 Dec 2021</td> <th>  Prob (F-statistic):</th> <td>1.05e-90</td>\n",
       "</tr>\n",
       "<tr>\n",
       "  <th>Time:</th>                 <td>22:06:27</td>     <th>  Log-Likelihood:    </th> <td>  690.83</td>\n",
       "</tr>\n",
       "<tr>\n",
       "  <th>No. Observations:</th>      <td>   316</td>      <th>  AIC:               </th> <td>  -1364.</td>\n",
       "</tr>\n",
       "<tr>\n",
       "  <th>Df Residuals:</th>          <td>   307</td>      <th>  BIC:               </th> <td>  -1330.</td>\n",
       "</tr>\n",
       "<tr>\n",
       "  <th>Df Model:</th>              <td>     8</td>      <th>                     </th>     <td> </td>   \n",
       "</tr>\n",
       "<tr>\n",
       "  <th>Covariance Type:</th>      <td>nonrobust</td>    <th>                     </th>     <td> </td>   \n",
       "</tr>\n",
       "</table>\n",
       "<table class=\"simpletable\">\n",
       "<tr>\n",
       "          <td></td>             <th>coef</th>     <th>std err</th>      <th>t</th>      <th>P>|t|</th>  <th>[0.025</th>    <th>0.975]</th>  \n",
       "</tr>\n",
       "<tr>\n",
       "  <th>const</th>             <td>    3.4510</td> <td>    0.110</td> <td>   31.237</td> <td> 0.000</td> <td>    3.234</td> <td>    3.668</td>\n",
       "</tr>\n",
       "<tr>\n",
       "  <th>GRE Score</th>         <td>    0.0021</td> <td>    0.000</td> <td>    7.801</td> <td> 0.000</td> <td>    0.002</td> <td>    0.003</td>\n",
       "</tr>\n",
       "<tr>\n",
       "  <th>University Rating</th> <td>    0.0053</td> <td>    0.002</td> <td>    2.280</td> <td> 0.023</td> <td>    0.001</td> <td>    0.010</td>\n",
       "</tr>\n",
       "<tr>\n",
       "  <th>SOP</th>               <td>    0.0043</td> <td>    0.003</td> <td>    1.646</td> <td> 0.101</td> <td>   -0.001</td> <td>    0.010</td>\n",
       "</tr>\n",
       "<tr>\n",
       "  <th>LOR </th>              <td>   -0.0053</td> <td>    0.003</td> <td>   -1.974</td> <td> 0.049</td> <td>   -0.011</td> <td>-1.56e-05</td>\n",
       "</tr>\n",
       "<tr>\n",
       "  <th>CGPA</th>              <td>    0.2375</td> <td>    0.063</td> <td>    3.757</td> <td> 0.000</td> <td>    0.113</td> <td>    0.362</td>\n",
       "</tr>\n",
       "<tr>\n",
       "  <th>Research</th>          <td>   -0.0033</td> <td>    0.004</td> <td>   -0.827</td> <td> 0.409</td> <td>   -0.011</td> <td>    0.005</td>\n",
       "</tr>\n",
       "<tr>\n",
       "  <th>Chance of Admit </th>  <td>    0.0610</td> <td>    0.024</td> <td>    2.493</td> <td> 0.013</td> <td>    0.013</td> <td>    0.109</td>\n",
       "</tr>\n",
       "<tr>\n",
       "  <th>level CGPA</th>        <td>   -0.0046</td> <td>    0.006</td> <td>   -0.814</td> <td> 0.416</td> <td>   -0.016</td> <td>    0.007</td>\n",
       "</tr>\n",
       "</table>\n",
       "<table class=\"simpletable\">\n",
       "<tr>\n",
       "  <th>Omnibus:</th>       <td> 3.394</td> <th>  Durbin-Watson:     </th> <td>   2.026</td>\n",
       "</tr>\n",
       "<tr>\n",
       "  <th>Prob(Omnibus):</th> <td> 0.183</td> <th>  Jarque-Bera (JB):  </th> <td>   3.429</td>\n",
       "</tr>\n",
       "<tr>\n",
       "  <th>Skew:</th>          <td>-0.134</td> <th>  Prob(JB):          </th> <td>   0.180</td>\n",
       "</tr>\n",
       "<tr>\n",
       "  <th>Kurtosis:</th>      <td> 3.434</td> <th>  Cond. No.          </th> <td>2.51e+04</td>\n",
       "</tr>\n",
       "</table><br/><br/>Notes:<br/>[1] Standard Errors assume that the covariance matrix of the errors is correctly specified.<br/>[2] The condition number is large, 2.51e+04. This might indicate that there are<br/>strong multicollinearity or other numerical problems."
      ],
      "text/plain": [
       "<class 'statsmodels.iolib.summary.Summary'>\n",
       "\"\"\"\n",
       "                            OLS Regression Results                            \n",
       "==============================================================================\n",
       "Dep. Variable:            TOEFL Score   R-squared:                       0.761\n",
       "Model:                            OLS   Adj. R-squared:                  0.755\n",
       "Method:                 Least Squares   F-statistic:                     122.2\n",
       "Date:                Sat, 18 Dec 2021   Prob (F-statistic):           1.05e-90\n",
       "Time:                        22:06:27   Log-Likelihood:                 690.83\n",
       "No. Observations:                 316   AIC:                            -1364.\n",
       "Df Residuals:                     307   BIC:                            -1330.\n",
       "Df Model:                           8                                         \n",
       "Covariance Type:            nonrobust                                         \n",
       "=====================================================================================\n",
       "                        coef    std err          t      P>|t|      [0.025      0.975]\n",
       "-------------------------------------------------------------------------------------\n",
       "const                 3.4510      0.110     31.237      0.000       3.234       3.668\n",
       "GRE Score             0.0021      0.000      7.801      0.000       0.002       0.003\n",
       "University Rating     0.0053      0.002      2.280      0.023       0.001       0.010\n",
       "SOP                   0.0043      0.003      1.646      0.101      -0.001       0.010\n",
       "LOR                  -0.0053      0.003     -1.974      0.049      -0.011   -1.56e-05\n",
       "CGPA                  0.2375      0.063      3.757      0.000       0.113       0.362\n",
       "Research             -0.0033      0.004     -0.827      0.409      -0.011       0.005\n",
       "Chance of Admit       0.0610      0.024      2.493      0.013       0.013       0.109\n",
       "level CGPA           -0.0046      0.006     -0.814      0.416      -0.016       0.007\n",
       "==============================================================================\n",
       "Omnibus:                        3.394   Durbin-Watson:                   2.026\n",
       "Prob(Omnibus):                  0.183   Jarque-Bera (JB):                3.429\n",
       "Skew:                          -0.134   Prob(JB):                        0.180\n",
       "Kurtosis:                       3.434   Cond. No.                     2.51e+04\n",
       "==============================================================================\n",
       "\n",
       "Notes:\n",
       "[1] Standard Errors assume that the covariance matrix of the errors is correctly specified.\n",
       "[2] The condition number is large, 2.51e+04. This might indicate that there are\n",
       "strong multicollinearity or other numerical problems.\n",
       "\"\"\""
      ]
     },
     "execution_count": 70,
     "metadata": {},
     "output_type": "execute_result"
    }
   ],
   "source": [
    "import statsmodels.api as sm\n",
    "X1 = sm.add_constant(X_train)\n",
    "mr1 = sm.OLS(y_train, X1).fit()\n",
    "mr1.summary()"
   ]
  },
  {
   "cell_type": "markdown",
   "id": "9d69135e",
   "metadata": {},
   "source": [
    "Переменная Research и level CGPA не являются статистически значими по сравнению с остальными переменными"
   ]
  },
  {
   "cell_type": "code",
   "execution_count": 71,
   "id": "7e963219",
   "metadata": {},
   "outputs": [
    {
     "data": {
      "text/plain": [
       "(array([ 2.59217612e-09, -2.69683900e-02,  1.31947240e-01,  1.48686564e-02,\n",
       "        -2.14796042e-01,  8.64262649e+00, -1.81502435e-01, -6.94901798e-02,\n",
       "        -3.00187278e-01,  2.63997690e-05,  8.11179122e-06, -1.05936314e-04,\n",
       "        -2.97933471e-04,  7.39219496e-03, -7.84686010e-05, -2.97883977e-03,\n",
       "         5.67932961e-05,  2.62265363e-03, -7.45095228e-05, -2.42428158e-03,\n",
       "        -5.42883514e-02,  6.78348829e-03, -4.41666999e-02,  8.22334276e-03,\n",
       "        -4.67729377e-03, -6.07999617e-05,  2.18396965e-02,  7.34721026e-03,\n",
       "         1.32598774e-02, -1.01856997e-02, -7.58871004e-04,  1.46885984e-01,\n",
       "        -1.79614622e-02,  1.95104079e-02, -2.29835638e-03, -2.75179015e+00,\n",
       "         2.23596641e-01,  2.75001296e-01,  3.09053408e-01, -1.81502435e-01,\n",
       "        -7.61860423e-02, -2.69902026e-02,  4.58553544e-01, -6.90818303e-02,\n",
       "        -3.00187278e-01]),\n",
       " -0.36658714826860184)"
      ]
     },
     "execution_count": 71,
     "metadata": {},
     "output_type": "execute_result"
    }
   ],
   "source": [
    "from sklearn.preprocessing import PolynomialFeatures\n",
    "X_train_p = PolynomialFeatures().fit_transform(X_train)\n",
    "X_test_p = PolynomialFeatures().fit_transform(X_test)\n",
    "pr = LinearRegression().fit(X_train_p, y_train)\n",
    "pr.coef_, pr.intercept_"
   ]
  },
  {
   "cell_type": "code",
   "execution_count": 72,
   "id": "3334e9b0",
   "metadata": {},
   "outputs": [
    {
     "data": {
      "text/plain": [
       "0.791"
      ]
     },
     "execution_count": 72,
     "metadata": {},
     "output_type": "execute_result"
    }
   ],
   "source": [
    "y_pred = pr.predict(X_test_p)\n",
    "pr.score(X_train_p, y_train).round(3)"
   ]
  },
  {
   "cell_type": "code",
   "execution_count": 73,
   "id": "38d25b1b",
   "metadata": {},
   "outputs": [
    {
     "data": {
      "text/plain": [
       "(0.03, 0.03)"
      ]
     },
     "execution_count": 73,
     "metadata": {},
     "output_type": "execute_result"
    }
   ],
   "source": [
    "mean_squared_error(y_train, pr.predict(X_train_p), squared=False).round(2), mean_squared_error(y_test, y_pred, squared=False).round(2)"
   ]
  },
  {
   "cell_type": "code",
   "execution_count": 74,
   "id": "3f8ba37a",
   "metadata": {
    "scrolled": true
   },
   "outputs": [
    {
     "data": {
      "image/png": "[encoded data removed]",
      "text/plain": [
       "<Figure size 432x288 with 1 Axes>"
      ]
     },
     "metadata": {
      "needs_background": "light"
     },
     "output_type": "display_data"
    }
   ],
   "source": [
    "plt.scatter(X_test['CGPA'], y_test, color = 'red')\n",
    "plt.plot(X_test['CGPA'], pr.predict(X_test_p), 'bo')\n",
    "plt.title('TOEFL Score vs CGPA')\n",
    "plt.xlabel('CGPA')\n",
    "plt.ylabel('TOEFL Score')\n",
    "plt.show()"
   ]
  },
  {
   "cell_type": "markdown",
   "id": "c1b012a1",
   "metadata": {},
   "source": [
    "# Pickle"
   ]
  },
  {
   "cell_type": "code",
   "execution_count": 75,
   "id": "0597d118",
   "metadata": {},
   "outputs": [],
   "source": [
    "import pickle\n",
    "obj = {'X_train': X_train, 'X_test': X_test,'y_train': y_train,'y_test': y_test}\n",
    "output = open('data_reg.pkl', 'wb')\n",
    "pickle.dump(obj, output, 2)\n",
    "output.close()"
   ]
  },
  {
   "cell_type": "code",
   "execution_count": null,
   "id": "8c6df3cb",
   "metadata": {},
   "outputs": [],
   "source": []
  }
 ],
 "metadata": {
  "kernelspec": {
   "display_name": "Python 3 (ipykernel)",
   "language": "python",
   "name": "python3"
  },
  "language_info": {
   "codemirror_mode": {
    "name": "ipython",
    "version": 3
   },
   "file_extension": ".py",
   "mimetype": "text/x-python",
   "name": "python",
   "nbconvert_exporter": "python",
   "pygments_lexer": "ipython3",
   "version": "3.8.12"
  }
 },
 "nbformat": 4,
 "nbformat_minor": 5
}
